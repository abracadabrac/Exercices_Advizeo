{
 "cells": [
  {
   "cell_type": "code",
   "execution_count": 1,
   "metadata": {},
   "outputs": [],
   "source": [
    "import pandas as pd\n",
    "\n",
    "input_path = \"./data/RAW/\"\n",
    "data = pd.read_csv(input_path + \"sample_data.csv\", index_col=0, parse_dates=[0])\n",
    "labels = pd.read_csv(input_path + \"label_data.csv\", index_col=0, parse_dates=[0])"
   ]
  },
  {
   "cell_type": "markdown",
   "metadata": {},
   "source": [
    "## Exercice 1\n",
    "J'utile une boucle for pour manupuler un tableau Pandas. C'est sous-optimal. "
   ]
  },
  {
   "cell_type": "code",
   "execution_count": 2,
   "metadata": {},
   "outputs": [],
   "source": [
    "data_mean_list = []\n",
    "for date_step in labels.index:\n",
    "    \n",
    "    data_window = data[date_step.strftime(format=\"%Y-%m-%d %H\")]\n",
    "    #print(data_window.index, '\\n')\n",
    "    data_mean_list.append(list(data_window.mean()))\n",
    "    "
   ]
  },
  {
   "cell_type": "code",
   "execution_count": 3,
   "metadata": {},
   "outputs": [
    {
     "data": {
      "text/html": [
       "<div>\n",
       "<style scoped>\n",
       "    .dataframe tbody tr th:only-of-type {\n",
       "        vertical-align: middle;\n",
       "    }\n",
       "\n",
       "    .dataframe tbody tr th {\n",
       "        vertical-align: top;\n",
       "    }\n",
       "\n",
       "    .dataframe thead th {\n",
       "        text-align: right;\n",
       "    }\n",
       "</style>\n",
       "<table border=\"1\" class=\"dataframe\">\n",
       "  <thead>\n",
       "    <tr style=\"text-align: right;\">\n",
       "      <th></th>\n",
       "      <th>Bat1</th>\n",
       "      <th>Bat2</th>\n",
       "      <th>Bat3</th>\n",
       "      <th>Bat4</th>\n",
       "      <th>Bat5</th>\n",
       "      <th>Bat6</th>\n",
       "      <th>Bat7</th>\n",
       "      <th>Bat8</th>\n",
       "      <th>Bat9</th>\n",
       "      <th>Bat10</th>\n",
       "    </tr>\n",
       "  </thead>\n",
       "  <tbody>\n",
       "    <tr>\n",
       "      <th>2017-04-01 00:00:00</th>\n",
       "      <td>363.833333</td>\n",
       "      <td>546.666667</td>\n",
       "      <td>515.666667</td>\n",
       "      <td>454.000000</td>\n",
       "      <td>368.666667</td>\n",
       "      <td>699.833333</td>\n",
       "      <td>635.166667</td>\n",
       "      <td>461.666667</td>\n",
       "      <td>318.833333</td>\n",
       "      <td>448.666667</td>\n",
       "    </tr>\n",
       "    <tr>\n",
       "      <th>2017-04-01 01:00:00</th>\n",
       "      <td>367.000000</td>\n",
       "      <td>573.333333</td>\n",
       "      <td>551.000000</td>\n",
       "      <td>435.333333</td>\n",
       "      <td>374.666667</td>\n",
       "      <td>687.833333</td>\n",
       "      <td>665.666667</td>\n",
       "      <td>406.833333</td>\n",
       "      <td>309.166667</td>\n",
       "      <td>398.166667</td>\n",
       "    </tr>\n",
       "    <tr>\n",
       "      <th>2017-04-01 02:00:00</th>\n",
       "      <td>504.666667</td>\n",
       "      <td>701.166667</td>\n",
       "      <td>586.833333</td>\n",
       "      <td>416.500000</td>\n",
       "      <td>565.666667</td>\n",
       "      <td>903.833333</td>\n",
       "      <td>679.500000</td>\n",
       "      <td>412.000000</td>\n",
       "      <td>330.833333</td>\n",
       "      <td>442.666667</td>\n",
       "    </tr>\n",
       "    <tr>\n",
       "      <th>2017-04-01 03:00:00</th>\n",
       "      <td>476.166667</td>\n",
       "      <td>928.000000</td>\n",
       "      <td>612.833333</td>\n",
       "      <td>445.000000</td>\n",
       "      <td>567.333333</td>\n",
       "      <td>933.166667</td>\n",
       "      <td>730.833333</td>\n",
       "      <td>574.166667</td>\n",
       "      <td>428.833333</td>\n",
       "      <td>529.833333</td>\n",
       "    </tr>\n",
       "    <tr>\n",
       "      <th>2017-04-01 04:00:00</th>\n",
       "      <td>582.500000</td>\n",
       "      <td>902.166667</td>\n",
       "      <td>609.833333</td>\n",
       "      <td>466.500000</td>\n",
       "      <td>608.833333</td>\n",
       "      <td>980.666667</td>\n",
       "      <td>829.166667</td>\n",
       "      <td>570.000000</td>\n",
       "      <td>508.166667</td>\n",
       "      <td>622.166667</td>\n",
       "    </tr>\n",
       "  </tbody>\n",
       "</table>\n",
       "</div>"
      ],
      "text/plain": [
       "                           Bat1        Bat2        Bat3        Bat4  \\\n",
       "2017-04-01 00:00:00  363.833333  546.666667  515.666667  454.000000   \n",
       "2017-04-01 01:00:00  367.000000  573.333333  551.000000  435.333333   \n",
       "2017-04-01 02:00:00  504.666667  701.166667  586.833333  416.500000   \n",
       "2017-04-01 03:00:00  476.166667  928.000000  612.833333  445.000000   \n",
       "2017-04-01 04:00:00  582.500000  902.166667  609.833333  466.500000   \n",
       "\n",
       "                           Bat5        Bat6        Bat7        Bat8  \\\n",
       "2017-04-01 00:00:00  368.666667  699.833333  635.166667  461.666667   \n",
       "2017-04-01 01:00:00  374.666667  687.833333  665.666667  406.833333   \n",
       "2017-04-01 02:00:00  565.666667  903.833333  679.500000  412.000000   \n",
       "2017-04-01 03:00:00  567.333333  933.166667  730.833333  574.166667   \n",
       "2017-04-01 04:00:00  608.833333  980.666667  829.166667  570.000000   \n",
       "\n",
       "                           Bat9       Bat10  \n",
       "2017-04-01 00:00:00  318.833333  448.666667  \n",
       "2017-04-01 01:00:00  309.166667  398.166667  \n",
       "2017-04-01 02:00:00  330.833333  442.666667  \n",
       "2017-04-01 03:00:00  428.833333  529.833333  \n",
       "2017-04-01 04:00:00  508.166667  622.166667  "
      ]
     },
     "execution_count": 3,
     "metadata": {},
     "output_type": "execute_result"
    }
   ],
   "source": [
    "import numpy as np\n",
    "\n",
    "data_mean = pd.DataFrame(data_mean_list, dtype=np.float64,\n",
    "                         index=labels.index, columns=data.columns)\n",
    "\n",
    "data_mean.head()"
   ]
  },
  {
   "cell_type": "code",
   "execution_count": 4,
   "metadata": {},
   "outputs": [
    {
     "name": "stdout",
     "output_type": "stream",
     "text": [
      "shape of data_mean: (6336, 10)\n",
      "shape of labels: (6336, 10)\n"
     ]
    }
   ],
   "source": [
    "print('shape of data_mean:', data_mean.shape)\n",
    "print('shape of labels:', labels.shape)"
   ]
  },
  {
   "cell_type": "markdown",
   "metadata": {},
   "source": [
    "## Exercice 2\n",
    "\n",
    "## (a) Normalisation\n",
    "\n",
    "La normalisation qui me semble la plus pertinente est de se ramener à des données de variances unitaires et moyennes nulles par batiment. Chaque batiement pouvant ansi être comparé aux autres dans un même espace de variation que ça soit une cabane de jardin ou une usine. "
   ]
  },
  {
   "cell_type": "code",
   "execution_count": 5,
   "metadata": {},
   "outputs": [
    {
     "name": "stdout",
     "output_type": "stream",
     "text": [
      "data_mean.mean(): \n",
      " Bat1      588.383875\n",
      "Bat2     1020.188229\n",
      "Bat3      672.944971\n",
      "Bat4      405.228733\n",
      "Bat5      758.106064\n",
      "Bat6     1046.209782\n",
      "Bat7      871.721213\n",
      "Bat8      658.021291\n",
      "Bat9      495.478938\n",
      "Bat10     651.512837\n",
      "dtype: float64 \n",
      "\n",
      "data_mean.var(): \n",
      " Bat1     24960.519778\n",
      "Bat2     97490.616014\n",
      "Bat3     23497.115989\n",
      "Bat4     12680.719269\n",
      "Bat5     69907.679252\n",
      "Bat6     79316.479780\n",
      "Bat7     58837.156863\n",
      "Bat8     27294.291807\n",
      "Bat9     24623.964030\n",
      "Bat10    29094.504536\n",
      "dtype: float64 \n",
      "\n",
      "mean ratio:  2.581775915248595\n",
      "var ratio:  7.688098280794263\n"
     ]
    }
   ],
   "source": [
    "print('data_mean.mean(): \\n', data_mean.mean(), '\\n')\n",
    "print('data_mean.var(): \\n', data_mean.var(), '\\n')\n",
    "\n",
    "print('mean ratio: ', data_mean.mean().max() / data_mean.mean().min())\n",
    "print('var ratio: ', data_mean.var().max() / data_mean.var().min())"
   ]
  },
  {
   "cell_type": "code",
   "execution_count": 6,
   "metadata": {},
   "outputs": [
    {
     "data": {
      "text/html": [
       "<div>\n",
       "<style scoped>\n",
       "    .dataframe tbody tr th:only-of-type {\n",
       "        vertical-align: middle;\n",
       "    }\n",
       "\n",
       "    .dataframe tbody tr th {\n",
       "        vertical-align: top;\n",
       "    }\n",
       "\n",
       "    .dataframe thead th {\n",
       "        text-align: right;\n",
       "    }\n",
       "</style>\n",
       "<table border=\"1\" class=\"dataframe\">\n",
       "  <thead>\n",
       "    <tr style=\"text-align: right;\">\n",
       "      <th></th>\n",
       "      <th>Bat1</th>\n",
       "      <th>Bat2</th>\n",
       "      <th>Bat3</th>\n",
       "      <th>Bat4</th>\n",
       "      <th>Bat5</th>\n",
       "      <th>Bat6</th>\n",
       "      <th>Bat7</th>\n",
       "      <th>Bat8</th>\n",
       "      <th>Bat9</th>\n",
       "      <th>Bat10</th>\n",
       "    </tr>\n",
       "  </thead>\n",
       "  <tbody>\n",
       "    <tr>\n",
       "      <th>2017-04-01 00:00:00</th>\n",
       "      <td>-1.421417</td>\n",
       "      <td>-1.516675</td>\n",
       "      <td>-1.026114</td>\n",
       "      <td>0.433138</td>\n",
       "      <td>-1.473030</td>\n",
       "      <td>-1.229988</td>\n",
       "      <td>-0.975303</td>\n",
       "      <td>-1.188610</td>\n",
       "      <td>-1.125792</td>\n",
       "      <td>-1.189311</td>\n",
       "    </tr>\n",
       "    <tr>\n",
       "      <th>2017-04-01 01:00:00</th>\n",
       "      <td>-1.401372</td>\n",
       "      <td>-1.431263</td>\n",
       "      <td>-0.795593</td>\n",
       "      <td>0.267359</td>\n",
       "      <td>-1.450336</td>\n",
       "      <td>-1.272600</td>\n",
       "      <td>-0.849553</td>\n",
       "      <td>-1.520538</td>\n",
       "      <td>-1.187399</td>\n",
       "      <td>-1.485399</td>\n",
       "    </tr>\n",
       "    <tr>\n",
       "      <th>2017-04-01 02:00:00</th>\n",
       "      <td>-0.529935</td>\n",
       "      <td>-1.021816</td>\n",
       "      <td>-0.561809</td>\n",
       "      <td>0.100100</td>\n",
       "      <td>-0.727890</td>\n",
       "      <td>-0.505581</td>\n",
       "      <td>-0.792519</td>\n",
       "      <td>-1.489262</td>\n",
       "      <td>-1.049314</td>\n",
       "      <td>-1.224490</td>\n",
       "    </tr>\n",
       "    <tr>\n",
       "      <th>2017-04-01 03:00:00</th>\n",
       "      <td>-0.710341</td>\n",
       "      <td>-0.295276</td>\n",
       "      <td>-0.392180</td>\n",
       "      <td>0.353209</td>\n",
       "      <td>-0.721586</td>\n",
       "      <td>-0.401418</td>\n",
       "      <td>-0.580874</td>\n",
       "      <td>-0.507604</td>\n",
       "      <td>-0.424744</td>\n",
       "      <td>-0.713422</td>\n",
       "    </tr>\n",
       "    <tr>\n",
       "      <th>2017-04-01 04:00:00</th>\n",
       "      <td>-0.037245</td>\n",
       "      <td>-0.378020</td>\n",
       "      <td>-0.411753</td>\n",
       "      <td>0.544151</td>\n",
       "      <td>-0.564615</td>\n",
       "      <td>-0.232745</td>\n",
       "      <td>-0.175450</td>\n",
       "      <td>-0.532827</td>\n",
       "      <td>0.080861</td>\n",
       "      <td>-0.172060</td>\n",
       "    </tr>\n",
       "  </tbody>\n",
       "</table>\n",
       "</div>"
      ],
      "text/plain": [
       "                         Bat1      Bat2      Bat3      Bat4      Bat5  \\\n",
       "2017-04-01 00:00:00 -1.421417 -1.516675 -1.026114  0.433138 -1.473030   \n",
       "2017-04-01 01:00:00 -1.401372 -1.431263 -0.795593  0.267359 -1.450336   \n",
       "2017-04-01 02:00:00 -0.529935 -1.021816 -0.561809  0.100100 -0.727890   \n",
       "2017-04-01 03:00:00 -0.710341 -0.295276 -0.392180  0.353209 -0.721586   \n",
       "2017-04-01 04:00:00 -0.037245 -0.378020 -0.411753  0.544151 -0.564615   \n",
       "\n",
       "                         Bat6      Bat7      Bat8      Bat9     Bat10  \n",
       "2017-04-01 00:00:00 -1.229988 -0.975303 -1.188610 -1.125792 -1.189311  \n",
       "2017-04-01 01:00:00 -1.272600 -0.849553 -1.520538 -1.187399 -1.485399  \n",
       "2017-04-01 02:00:00 -0.505581 -0.792519 -1.489262 -1.049314 -1.224490  \n",
       "2017-04-01 03:00:00 -0.401418 -0.580874 -0.507604 -0.424744 -0.713422  \n",
       "2017-04-01 04:00:00 -0.232745 -0.175450 -0.532827  0.080861 -0.172060  "
      ]
     },
     "execution_count": 6,
     "metadata": {},
     "output_type": "execute_result"
    }
   ],
   "source": [
    "from sklearn.preprocessing import StandardScaler\n",
    "\n",
    "scaler = StandardScaler(with_mean=True, with_std=True)\n",
    "scaler.fit(data_mean)\n",
    "data_normalised_list = scaler.transform(data_mean)   \n",
    "\n",
    "data_normalised = pd.DataFrame(data_normalised_list, dtype=np.float64,\n",
    "                               index=labels.index, columns=data.columns)\n",
    "\n",
    "data_normalised.head()"
   ]
  },
  {
   "cell_type": "code",
   "execution_count": 7,
   "metadata": {},
   "outputs": [
    {
     "name": "stdout",
     "output_type": "stream",
     "text": [
      "data_normalised.mean(): \n",
      " Bat1     1.103214e-16\n",
      "Bat2     2.209933e-16\n",
      "Bat3     3.263032e-16\n",
      "Bat4    -3.199251e-16\n",
      "Bat5     5.474880e-17\n",
      "Bat6     8.458942e-16\n",
      "Bat7    -3.702614e-16\n",
      "Bat8    -6.665544e-17\n",
      "Bat9     3.563367e-16\n",
      "Bat10   -8.423265e-17\n",
      "dtype: float64 \n",
      "\n",
      "data_normalised.var(): \n",
      " Bat1     1.000158\n",
      "Bat2     1.000158\n",
      "Bat3     1.000158\n",
      "Bat4     1.000158\n",
      "Bat5     1.000158\n",
      "Bat6     1.000158\n",
      "Bat7     1.000158\n",
      "Bat8     1.000158\n",
      "Bat9     1.000158\n",
      "Bat10    1.000158\n",
      "dtype: float64\n"
     ]
    }
   ],
   "source": [
    "print('data_normalised.mean(): \\n', data_normalised.mean(), '\\n')\n",
    "print('data_normalised.var(): \\n', data_normalised.var())"
   ]
  },
  {
   "cell_type": "markdown",
   "metadata": {},
   "source": [
    "# (b) Visualisation"
   ]
  },
  {
   "cell_type": "code",
   "execution_count": 8,
   "metadata": {},
   "outputs": [],
   "source": [
    "def plot_results_classif(data, labels, Bat_name, start_date, end_date):\n",
    "    window = (start_date < labels.index) & (labels.index < end_date)\n",
    "    data = data[window][Bat_name]\n",
    "    labels = labels[window][Bat_name]\n",
    "    labels = labels * (data.max() - data.min()) + data.min()\n",
    "    \n",
    "    pd.concat([data, labels], axis=1, sort=False).plot()"
   ]
  },
  {
   "cell_type": "code",
   "execution_count": 9,
   "metadata": {},
   "outputs": [],
   "source": [
    "import datetime as dt\n",
    "\n",
    "start_date = dt.datetime(2017, 6, 1)\n",
    "end_date = dt.datetime(2017, 6, 6)\n",
    "\n",
    "plot_results_classif(data_normalised, labels, 'Bat3', start_date, end_date)\n",
    "plot_results_classif(data_normalised, labels, 'Bat5', start_date, end_date)\n",
    "plot_results_classif(data_normalised, labels, 'Bat9', start_date, end_date)"
   ]
  },
  {
   "cell_type": "code",
   "execution_count": 10,
   "metadata": {},
   "outputs": [
    {
     "data": {
      "image/png": "[encoded data removed]",
      "text/plain": [
       "<Figure size 432x288 with 1 Axes>"
      ]
     },
     "metadata": {},
     "output_type": "display_data"
    },
    {
     "data": {
      "image/png": "[encoded data removed]",
      "text/plain": [
       "<Figure size 432x288 with 1 Axes>"
      ]
     },
     "metadata": {},
     "output_type": "display_data"
    },
    {
     "data": {
      "image/png": "[encoded data removed]",
      "text/plain": [
       "<Figure size 432x288 with 1 Axes>"
      ]
     },
     "metadata": {},
     "output_type": "display_data"
    }
   ],
   "source": [
    "start_date = dt.datetime(2017, 7, 21)\n",
    "end_date = dt.datetime(2017, 7, 26)\n",
    "\n",
    "plot_results_classif(data_normalised, labels, 'Bat3', start_date, end_date)\n",
    "plot_results_classif(data_normalised, labels, 'Bat5', start_date, end_date)\n",
    "plot_results_classif(data_normalised, labels, 'Bat9', start_date, end_date)"
   ]
  },
  {
   "cell_type": "markdown",
   "metadata": {},
   "source": [
    "### (b) methode 1"
   ]
  },
  {
   "cell_type": "markdown",
   "metadata": {},
   "source": [
    "Pour obtenir les jours fériés j'ai d'abord pensé à calculer les consomations moyennes par jour et à estimer un seuil. "
   ]
  },
  {
   "cell_type": "code",
   "execution_count": 11,
   "metadata": {},
   "outputs": [
    {
     "data": {
      "text/html": [
       "<div>\n",
       "<style scoped>\n",
       "    .dataframe tbody tr th:only-of-type {\n",
       "        vertical-align: middle;\n",
       "    }\n",
       "\n",
       "    .dataframe tbody tr th {\n",
       "        vertical-align: top;\n",
       "    }\n",
       "\n",
       "    .dataframe thead th {\n",
       "        text-align: right;\n",
       "    }\n",
       "</style>\n",
       "<table border=\"1\" class=\"dataframe\">\n",
       "  <thead>\n",
       "    <tr style=\"text-align: right;\">\n",
       "      <th></th>\n",
       "      <th>day_off</th>\n",
       "    </tr>\n",
       "  </thead>\n",
       "  <tbody>\n",
       "    <tr>\n",
       "      <th>2017-04-01 00:00:00</th>\n",
       "      <td>False</td>\n",
       "    </tr>\n",
       "    <tr>\n",
       "      <th>2017-04-01 01:00:00</th>\n",
       "      <td>False</td>\n",
       "    </tr>\n",
       "    <tr>\n",
       "      <th>2017-04-01 02:00:00</th>\n",
       "      <td>False</td>\n",
       "    </tr>\n",
       "    <tr>\n",
       "      <th>2017-04-01 03:00:00</th>\n",
       "      <td>False</td>\n",
       "    </tr>\n",
       "    <tr>\n",
       "      <th>2017-04-01 04:00:00</th>\n",
       "      <td>False</td>\n",
       "    </tr>\n",
       "  </tbody>\n",
       "</table>\n",
       "</div>"
      ],
      "text/plain": [
       "                     day_off\n",
       "2017-04-01 00:00:00    False\n",
       "2017-04-01 01:00:00    False\n",
       "2017-04-01 02:00:00    False\n",
       "2017-04-01 03:00:00    False\n",
       "2017-04-01 04:00:00    False"
      ]
     },
     "execution_count": 11,
     "metadata": {},
     "output_type": "execute_result"
    }
   ],
   "source": [
    "from collections import OrderedDict\n",
    "\n",
    "days_list = [hour.replace(hour=0).strftime(format=\"%Y-%m-%d\") for hour in labels.index]\n",
    "days_list = list(OrderedDict.fromkeys(days_list))\n",
    "\n",
    "dict_day_dayOff_1 = {}\n",
    "for day in days_list:\n",
    "    data_window = data_normalised[day]\n",
    "    #print(data_window.index, '\\n')\n",
    "    \n",
    "    consuption = data_window.mean().mean()   \n",
    "    dict_day_dayOff_1[day] = consuption < -0.65\n",
    "\n",
    "day_off_1 = [dict_day_dayOff_1[hour.strftime(format=\"%Y-%m-%d\")] for hour in labels.index]\n",
    "    \n",
    "day_off_df_1 = pd.DataFrame(day_off_1, dtype = bool, \n",
    "                            columns=['day_off'], index=labels.index)\n",
    "\n",
    "day_off_df_1.head()"
   ]
  },
  {
   "cell_type": "code",
   "execution_count": 12,
   "metadata": {},
   "outputs": [
    {
     "name": "stdout",
     "output_type": "stream",
     "text": [
      "number of hours during wich buildings are open during a day off according to method 1:  792\n"
     ]
    }
   ],
   "source": [
    "print('number of hours during wich buildings are open during a day off according to method 1: ',\n",
    "      (day_off_df_1['day_off']).sum())"
   ]
  },
  {
   "cell_type": "markdown",
   "metadata": {},
   "source": [
    "J'ai aussi utilisé la base labels pour estimer les jours fériés. Le batiment 4 est le seul à être ouvert 5 heures les dimanches. Je vais estimer qu'un jour est férié si les batiments sont ouverts moins de 20h cumulées. "
   ]
  },
  {
   "cell_type": "markdown",
   "metadata": {},
   "source": [
    "### (b) methode 2\n"
   ]
  },
  {
   "cell_type": "code",
   "execution_count": 13,
   "metadata": {},
   "outputs": [],
   "source": [
    "dict_day_dayOff_2 = {}\n",
    "for day in days_list:\n",
    "    dict_day_dayOff_2[day] = (labels[day].sum().sum() < 20)\n",
    "    \n",
    "day_off_2 = [dict_day_dayOff_2[hour.strftime(format=\"%Y-%m-%d\")] for hour in labels.index]\n",
    "    \n",
    "day_off_df_2 = pd.DataFrame(day_off_2, dtype = bool, \n",
    "                            columns=['day_off'], index=labels.index)"
   ]
  },
  {
   "cell_type": "code",
   "execution_count": 14,
   "metadata": {},
   "outputs": [
    {
     "name": "stdout",
     "output_type": "stream",
     "text": [
      "number of hours during wich buildings are open during a day off according to method 1:  744\n"
     ]
    }
   ],
   "source": [
    "print('number of hours during wich buildings are open during a day off according to method 1: ',\n",
    "      (day_off_df_2['day_off']).sum())"
   ]
  },
  {
   "cell_type": "code",
   "execution_count": 15,
   "metadata": {},
   "outputs": [
    {
     "name": "stdout",
     "output_type": "stream",
     "text": [
      "number of days of disagreemeent between the two methods:  2\n"
     ]
    }
   ],
   "source": [
    "print('number of days of disagreemeent between the two methods: ', \n",
    "      int((day_off_df_2 != day_off_1).sum() / 24))"
   ]
  },
  {
   "cell_type": "markdown",
   "metadata": {},
   "source": [
    " La méthode 2 semble légérement plus fiable que la première mais elle repose sur l'utilisation des labels. Je vais intégrer day_off_2 à data_normalised"
   ]
  },
  {
   "cell_type": "code",
   "execution_count": 16,
   "metadata": {},
   "outputs": [
    {
     "data": {
      "text/html": [
       "<div>\n",
       "<style scoped>\n",
       "    .dataframe tbody tr th:only-of-type {\n",
       "        vertical-align: middle;\n",
       "    }\n",
       "\n",
       "    .dataframe tbody tr th {\n",
       "        vertical-align: top;\n",
       "    }\n",
       "\n",
       "    .dataframe thead th {\n",
       "        text-align: right;\n",
       "    }\n",
       "</style>\n",
       "<table border=\"1\" class=\"dataframe\">\n",
       "  <thead>\n",
       "    <tr style=\"text-align: right;\">\n",
       "      <th></th>\n",
       "      <th>Bat1</th>\n",
       "      <th>Bat2</th>\n",
       "      <th>Bat3</th>\n",
       "      <th>Bat4</th>\n",
       "      <th>Bat5</th>\n",
       "      <th>Bat6</th>\n",
       "      <th>Bat7</th>\n",
       "      <th>Bat8</th>\n",
       "      <th>Bat9</th>\n",
       "      <th>Bat10</th>\n",
       "      <th>day_off</th>\n",
       "    </tr>\n",
       "  </thead>\n",
       "  <tbody>\n",
       "    <tr>\n",
       "      <th>2017-04-01 00:00:00</th>\n",
       "      <td>-1.421417</td>\n",
       "      <td>-1.516675</td>\n",
       "      <td>-1.026114</td>\n",
       "      <td>0.433138</td>\n",
       "      <td>-1.473030</td>\n",
       "      <td>-1.229988</td>\n",
       "      <td>-0.975303</td>\n",
       "      <td>-1.188610</td>\n",
       "      <td>-1.125792</td>\n",
       "      <td>-1.189311</td>\n",
       "      <td>False</td>\n",
       "    </tr>\n",
       "    <tr>\n",
       "      <th>2017-04-01 01:00:00</th>\n",
       "      <td>-1.401372</td>\n",
       "      <td>-1.431263</td>\n",
       "      <td>-0.795593</td>\n",
       "      <td>0.267359</td>\n",
       "      <td>-1.450336</td>\n",
       "      <td>-1.272600</td>\n",
       "      <td>-0.849553</td>\n",
       "      <td>-1.520538</td>\n",
       "      <td>-1.187399</td>\n",
       "      <td>-1.485399</td>\n",
       "      <td>False</td>\n",
       "    </tr>\n",
       "    <tr>\n",
       "      <th>2017-04-01 02:00:00</th>\n",
       "      <td>-0.529935</td>\n",
       "      <td>-1.021816</td>\n",
       "      <td>-0.561809</td>\n",
       "      <td>0.100100</td>\n",
       "      <td>-0.727890</td>\n",
       "      <td>-0.505581</td>\n",
       "      <td>-0.792519</td>\n",
       "      <td>-1.489262</td>\n",
       "      <td>-1.049314</td>\n",
       "      <td>-1.224490</td>\n",
       "      <td>False</td>\n",
       "    </tr>\n",
       "    <tr>\n",
       "      <th>2017-04-01 03:00:00</th>\n",
       "      <td>-0.710341</td>\n",
       "      <td>-0.295276</td>\n",
       "      <td>-0.392180</td>\n",
       "      <td>0.353209</td>\n",
       "      <td>-0.721586</td>\n",
       "      <td>-0.401418</td>\n",
       "      <td>-0.580874</td>\n",
       "      <td>-0.507604</td>\n",
       "      <td>-0.424744</td>\n",
       "      <td>-0.713422</td>\n",
       "      <td>False</td>\n",
       "    </tr>\n",
       "    <tr>\n",
       "      <th>2017-04-01 04:00:00</th>\n",
       "      <td>-0.037245</td>\n",
       "      <td>-0.378020</td>\n",
       "      <td>-0.411753</td>\n",
       "      <td>0.544151</td>\n",
       "      <td>-0.564615</td>\n",
       "      <td>-0.232745</td>\n",
       "      <td>-0.175450</td>\n",
       "      <td>-0.532827</td>\n",
       "      <td>0.080861</td>\n",
       "      <td>-0.172060</td>\n",
       "      <td>False</td>\n",
       "    </tr>\n",
       "  </tbody>\n",
       "</table>\n",
       "</div>"
      ],
      "text/plain": [
       "                         Bat1      Bat2      Bat3      Bat4      Bat5  \\\n",
       "2017-04-01 00:00:00 -1.421417 -1.516675 -1.026114  0.433138 -1.473030   \n",
       "2017-04-01 01:00:00 -1.401372 -1.431263 -0.795593  0.267359 -1.450336   \n",
       "2017-04-01 02:00:00 -0.529935 -1.021816 -0.561809  0.100100 -0.727890   \n",
       "2017-04-01 03:00:00 -0.710341 -0.295276 -0.392180  0.353209 -0.721586   \n",
       "2017-04-01 04:00:00 -0.037245 -0.378020 -0.411753  0.544151 -0.564615   \n",
       "\n",
       "                         Bat6      Bat7      Bat8      Bat9     Bat10  day_off  \n",
       "2017-04-01 00:00:00 -1.229988 -0.975303 -1.188610 -1.125792 -1.189311    False  \n",
       "2017-04-01 01:00:00 -1.272600 -0.849553 -1.520538 -1.187399 -1.485399    False  \n",
       "2017-04-01 02:00:00 -0.505581 -0.792519 -1.489262 -1.049314 -1.224490    False  \n",
       "2017-04-01 03:00:00 -0.401418 -0.580874 -0.507604 -0.424744 -0.713422    False  \n",
       "2017-04-01 04:00:00 -0.232745 -0.175450 -0.532827  0.080861 -0.172060    False  "
      ]
     },
     "execution_count": 16,
     "metadata": {},
     "output_type": "execute_result"
    }
   ],
   "source": [
    "data_normalised_2 = pd.concat([data_normalised, day_off_df_2], axis=1, sort=False)\n",
    "data_normalised_2.head()"
   ]
  },
  {
   "cell_type": "markdown",
   "metadata": {},
   "source": [
    "## exercice 3"
   ]
  },
  {
   "cell_type": "code",
   "execution_count": 17,
   "metadata": {},
   "outputs": [],
   "source": [
    "df_list = [pd.concat(\n",
    "    [pd.DataFrame({'Bat': [num] * labels.shape[0]}, index=labels.index),\n",
    "     day_off_df_2,\n",
    "     data_normalised['Bat' + str(num)].rename('value'), \n",
    "     labels['Bat' + str(num)].rename('labels')\n",
    "    ], axis=1, sort=False)\n",
    "           for num in range(1,11)]"
   ]
  },
  {
   "cell_type": "code",
   "execution_count": 18,
   "metadata": {},
   "outputs": [
    {
     "data": {
      "text/plain": [
       "(63360, 4)"
      ]
     },
     "execution_count": 18,
     "metadata": {},
     "output_type": "execute_result"
    }
   ],
   "source": [
    "df = pd.concat(df_list, axis=0)\n",
    "df.shape"
   ]
  },
  {
   "cell_type": "code",
   "execution_count": 19,
   "metadata": {},
   "outputs": [
    {
     "data": {
      "text/html": [
       "<div>\n",
       "<style scoped>\n",
       "    .dataframe tbody tr th:only-of-type {\n",
       "        vertical-align: middle;\n",
       "    }\n",
       "\n",
       "    .dataframe tbody tr th {\n",
       "        vertical-align: top;\n",
       "    }\n",
       "\n",
       "    .dataframe thead th {\n",
       "        text-align: right;\n",
       "    }\n",
       "</style>\n",
       "<table border=\"1\" class=\"dataframe\">\n",
       "  <thead>\n",
       "    <tr style=\"text-align: right;\">\n",
       "      <th></th>\n",
       "      <th>Bat</th>\n",
       "      <th>day_off</th>\n",
       "      <th>value</th>\n",
       "      <th>labels</th>\n",
       "    </tr>\n",
       "  </thead>\n",
       "  <tbody>\n",
       "    <tr>\n",
       "      <th>2017-04-01 00:00:00</th>\n",
       "      <td>1</td>\n",
       "      <td>False</td>\n",
       "      <td>-1.421417</td>\n",
       "      <td>0</td>\n",
       "    </tr>\n",
       "    <tr>\n",
       "      <th>2017-04-01 01:00:00</th>\n",
       "      <td>1</td>\n",
       "      <td>False</td>\n",
       "      <td>-1.401372</td>\n",
       "      <td>0</td>\n",
       "    </tr>\n",
       "    <tr>\n",
       "      <th>2017-04-01 02:00:00</th>\n",
       "      <td>1</td>\n",
       "      <td>False</td>\n",
       "      <td>-0.529935</td>\n",
       "      <td>0</td>\n",
       "    </tr>\n",
       "    <tr>\n",
       "      <th>2017-04-01 03:00:00</th>\n",
       "      <td>1</td>\n",
       "      <td>False</td>\n",
       "      <td>-0.710341</td>\n",
       "      <td>0</td>\n",
       "    </tr>\n",
       "    <tr>\n",
       "      <th>2017-04-01 04:00:00</th>\n",
       "      <td>1</td>\n",
       "      <td>False</td>\n",
       "      <td>-0.037245</td>\n",
       "      <td>0</td>\n",
       "    </tr>\n",
       "  </tbody>\n",
       "</table>\n",
       "</div>"
      ],
      "text/plain": [
       "                     Bat  day_off     value  labels\n",
       "2017-04-01 00:00:00    1    False -1.421417       0\n",
       "2017-04-01 01:00:00    1    False -1.401372       0\n",
       "2017-04-01 02:00:00    1    False -0.529935       0\n",
       "2017-04-01 03:00:00    1    False -0.710341       0\n",
       "2017-04-01 04:00:00    1    False -0.037245       0"
      ]
     },
     "execution_count": 19,
     "metadata": {},
     "output_type": "execute_result"
    }
   ],
   "source": [
    "df.head()"
   ]
  },
  {
   "cell_type": "code",
   "execution_count": 20,
   "metadata": {},
   "outputs": [],
   "source": [
    "output_path = './data/processed/data.csv'\n",
    "df.to_csv(output_path)"
   ]
  },
  {
   "cell_type": "code",
   "execution_count": 21,
   "metadata": {},
   "outputs": [
    {
     "name": "stdout",
     "output_type": "stream",
     "text": [
      "L'année saisie est inférieure ou égale à 0.\n",
      "hello\n"
     ]
    }
   ],
   "source": [
    "try:\n",
    "    assert True == False\n",
    "except AssertionError:\n",
    "    print(\"L'année saisie est inférieure ou égale à 0.\")\n",
    "    \n",
    "print('hello')"
   ]
  },
  {
   "cell_type": "markdown",
   "metadata": {},
   "source": [
    "## exercice 4\n",
    "\n",
    "Je vais découper les données par jour et par batiment comme montré si dessus"
   ]
  },
  {
   "cell_type": "code",
   "execution_count": 22,
   "metadata": {},
   "outputs": [
    {
     "data": {
      "image/png": "[encoded data removed]",
      "text/plain": [
       "<Figure size 720x576 with 3 Axes>"
      ]
     },
     "metadata": {},
     "output_type": "display_data"
    }
   ],
   "source": [
    "from Visualize import visualise_batch_input\n",
    "\n",
    "visualise_batch_input()"
   ]
  },
  {
   "cell_type": "markdown",
   "metadata": {},
   "source": [
    "Voila ce que je vais utiliser comme entrée si batch_size = 3. Dans un premier temps je n'utilise pas day_off. "
   ]
  },
  {
   "cell_type": "markdown",
   "metadata": {},
   "source": [
    "La méthode la plus naturelle pour traiter ce type de données temprelles c'est un RNN. Comme les entrée sont de tailles fixes je vais commencer avec un CNN mono-dimensionel sr la dimension temprelle qui devrait extraire les dépendances temprelles. "
   ]
  },
  {
   "cell_type": "code",
   "execution_count": 38,
   "metadata": {},
   "outputs": [
    {
     "name": "stdout",
     "output_type": "stream",
     "text": [
      "Epoch 1/1\n",
      "30/30 [==============================] - 15s 491ms/step - loss: nan - val_loss: nan\n"
     ]
    },
    {
     "data": {
      "text/plain": [
       "<keras.callbacks.History at 0x12ff576d8>"
      ]
     },
     "execution_count": 38,
     "metadata": {},
     "output_type": "execute_result"
    }
   ],
   "source": [
    "from sklearn.model_selection import train_test_split\n",
    "from variables import Variables\n",
    "from reader import Data\n",
    "import datetime\n",
    "import os\n",
    "\n",
    "from models.RNN_1 import model\n",
    "\n",
    "V = Variables()\n",
    "\n",
    "days_list = V.days_list\n",
    "days_list_train, days_list_test, _, _ = train_test_split(days_list, days_list, test_size=0.2, random_state=666)\n",
    "days_list_test, days_list_valid, _, _ = train_test_split(days_list_test, days_list_test, test_size=0.5,\n",
    "                                                         random_state=666)\n",
    "\n",
    "expand_dims = False       # si RNN ou CNN\n",
    "data_train = Data('./data/processed/data.csv', days_list_train, expand_dims=expand_dims)\n",
    "data_test = Data('./data/processed/data.csv', days_list_test, expand_dims=expand_dims)\n",
    "data_valid = Data('./data/processed/data.csv', days_list_valid, expand_dims=expand_dims)\n",
    "\n",
    "now = datetime.datetime.now().replace(microsecond=0)\n",
    "name = datetime.date.today().isoformat() + '-' + now.strftime(\"%H-%M-%S\")\n",
    "os.makedirs('./experiments/' + name)\n",
    "\n",
    "learning_rate = 1e-3\n",
    "loss = 'categorical_crossentropy'\n",
    "batch_size = 4\n",
    "epoch = 1\n",
    "steps_per_epoch = 30\n",
    "\n",
    "gen_train = data_train.generator(batch_size)\n",
    "gen_validation = data_train.generator(len(days_list_valid))\n",
    "valid = gen_validation.__next__()\n",
    "\n",
    "model = model()\n",
    "\n",
    "model.compile(loss=loss, optimizer='Adam')\n",
    "\n",
    "model.fit_generator(gen_train,\n",
    "                      epochs=epoch,\n",
    "                      validation_data=valid,\n",
    "                      steps_per_epoch=steps_per_epoch)"
   ]
  },
  {
   "cell_type": "markdown",
   "metadata": {},
   "source": [
    "l'entrainement du modèle disfonctionne: Au bout de quelques batch la fonction de cout ne produit que des valeurs vides nan. "
   ]
  },
  {
   "cell_type": "code",
   "execution_count": null,
   "metadata": {},
   "outputs": [],
   "source": []
  }
 ],
 "metadata": {
  "kernelspec": {
   "display_name": "Python 3",
   "language": "python",
   "name": "python3"
  },
  "language_info": {
   "codemirror_mode": {
    "name": "ipython",
    "version": 3
   },
   "file_extension": ".py",
   "mimetype": "text/x-python",
   "name": "python",
   "nbconvert_exporter": "python",
   "pygments_lexer": "ipython3",
   "version": "3.6.5"
  }
 },
 "nbformat": 4,
 "nbformat_minor": 2
}
